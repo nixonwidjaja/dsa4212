{
 "cells": [
  {
   "cell_type": "code",
   "execution_count": 1,
   "metadata": {},
   "outputs": [],
   "source": [
    "import jax\n",
    "import jax.numpy as jnp \n",
    "import numpy as np\n",
    "from transformers import Transformer"
   ]
  },
  {
   "cell_type": "code",
   "execution_count": 2,
   "metadata": {},
   "outputs": [],
   "source": [
    "transformer = Transformer(seed=123, num_vocab=10, model_dim=4, hidden_dim=4, \\\n",
    "                          num_attention_layers=1, dk=2, dv=2)"
   ]
  },
  {
   "cell_type": "code",
   "execution_count": 3,
   "metadata": {},
   "outputs": [],
   "source": [
    "input_sample = jnp.arange(6)\n",
    "output_sample = jnp.arange(6)"
   ]
  },
  {
   "cell_type": "code",
   "execution_count": 4,
   "metadata": {},
   "outputs": [
    {
     "data": {
      "text/plain": [
       "Array([[ 1.6862992 ,  1.1083239 , -0.07306164,  0.8985744 ],\n",
       "       [ 1.6494057 ,  1.0783671 , -0.07984804,  0.86864406],\n",
       "       [ 1.6730537 ,  1.0975615 , -0.07548345,  0.88780427],\n",
       "       [-1.0168165 , -0.8890565 , -0.90460634, -0.76273125],\n",
       "       [-1.0168196 , -0.889058  , -0.904608  , -0.762732  ],\n",
       "       [-1.0168185 , -0.8890561 , -0.9046065 , -0.76273143]],      dtype=float32)"
      ]
     },
     "execution_count": 4,
     "metadata": {},
     "output_type": "execute_result"
    }
   ],
   "source": [
    "transformer.forward(input_sample, output_sample)"
   ]
  }
 ],
 "metadata": {
  "kernelspec": {
   "display_name": "Python 3",
   "language": "python",
   "name": "python3"
  },
  "language_info": {
   "codemirror_mode": {
    "name": "ipython",
    "version": 3
   },
   "file_extension": ".py",
   "mimetype": "text/x-python",
   "name": "python",
   "nbconvert_exporter": "python",
   "pygments_lexer": "ipython3",
   "version": "3.9.6"
  }
 },
 "nbformat": 4,
 "nbformat_minor": 2
}
