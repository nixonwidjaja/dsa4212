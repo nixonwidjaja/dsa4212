{
 "cells": [
  {
   "cell_type": "code",
   "execution_count": 1,
   "metadata": {},
   "outputs": [],
   "source": [
    "import jax\n",
    "import jax.numpy as jnp \n",
    "import numpy as np\n",
    "from transformers import Transformer"
   ]
  },
  {
   "cell_type": "code",
   "execution_count": 2,
   "metadata": {},
   "outputs": [],
   "source": [
    "transformer = Transformer(input_vocab=10, output_vocab=10, model_dim=4, feedforward_dim=4, num_attention_layer=2)"
   ]
  },
  {
   "cell_type": "code",
   "execution_count": 3,
   "metadata": {},
   "outputs": [],
   "source": [
    "input_sample = jnp.arange(6).reshape((1,6))\n",
    "output_sample = jnp.arange(10).reshape((1,10))"
   ]
  },
  {
   "cell_type": "code",
   "execution_count": 4,
   "metadata": {},
   "outputs": [],
   "source": [
    "val = transformer.init(jax.random.key(0), input_sample, output_sample, None, None)"
   ]
  },
  {
   "cell_type": "code",
   "execution_count": 5,
   "metadata": {},
   "outputs": [
    {
     "data": {
      "text/plain": [
       "Array([[[-3.5400112 , -3.1865373 , -4.278422  , -2.6243584 ,\n",
       "         -2.461668  , -0.8055344 , -2.1971378 , -3.346291  ,\n",
       "         -1.9560196 , -3.7539833 ],\n",
       "        [-3.538907  , -3.179956  , -4.2882752 , -2.617251  ,\n",
       "         -2.4648693 , -0.80752194, -2.2028275 , -3.337326  ,\n",
       "         -1.9495046 , -3.7598567 ],\n",
       "        [-3.5391853 , -3.1818264 , -4.2855744 , -2.6192086 ,\n",
       "         -2.4639773 , -0.80691355, -2.2012715 , -3.3398287 ,\n",
       "         -1.9514494 , -3.7582471 ],\n",
       "        [-3.5384138 , -3.1775239 , -4.2919655 , -2.614549  ,\n",
       "         -2.4660563 , -0.8082184 , -2.2049944 , -3.333952  ,\n",
       "         -1.947267  , -3.7620478 ],\n",
       "        [-3.5373738 , -3.1718285 , -4.3002157 , -2.6084504 ,\n",
       "         -2.4687643 , -0.8100149 , -2.2098422 , -3.326214  ,\n",
       "         -1.9417067 , -3.766941  ],\n",
       "        [-3.538507  , -3.1778598 , -4.2914166 , -2.6149535 ,\n",
       "         -2.465886  , -0.8081418 , -2.2046657 , -3.3344417 ,\n",
       "         -1.9475198 , -3.761723  ],\n",
       "        [-3.536104  , -3.1651356 , -4.3096533 , -2.6013532 ,\n",
       "         -2.4718914 , -0.81220603, -2.215453  , -3.3171575 ,\n",
       "         -1.9351889 , -3.7725189 ],\n",
       "        [-3.5364008 , -3.166864  , -4.3073    , -2.6031327 ,\n",
       "         -2.4710984 , -0.81160295, -2.2140553 , -3.3194575 ,\n",
       "         -1.936951  , -3.7711282 ],\n",
       "        [-3.5393858 , -3.182753  , -4.284117  , -2.6202662 ,\n",
       "         -2.4635153 , -0.8066688 , -2.2004173 , -3.3411343 ,\n",
       "         -1.9522648 , -3.7573807 ],\n",
       "        [-3.5374253 , -3.1720054 , -4.299933  , -2.6086626 ,\n",
       "         -2.4686763 , -0.8099734 , -2.2096705 , -3.3264718 ,\n",
       "         -1.9418368 , -3.7667744 ]]], dtype=float32)"
      ]
     },
     "execution_count": 5,
     "metadata": {},
     "output_type": "execute_result"
    }
   ],
   "source": [
    "transformer.apply(val, input_sample, output_sample, None, None)"
   ]
  }
 ],
 "metadata": {
  "kernelspec": {
   "display_name": "Python 3",
   "language": "python",
   "name": "python3"
  },
  "language_info": {
   "codemirror_mode": {
    "name": "ipython",
    "version": 3
   },
   "file_extension": ".py",
   "mimetype": "text/x-python",
   "name": "python",
   "nbconvert_exporter": "python",
   "pygments_lexer": "ipython3",
   "version": "3.9.6"
  }
 },
 "nbformat": 4,
 "nbformat_minor": 2
}
