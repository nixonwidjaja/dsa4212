{
 "cells": [
  {
   "cell_type": "code",
   "execution_count": 25,
   "metadata": {},
   "outputs": [],
   "source": [
    "import jax \n",
    "import jax.numpy as jnp\n",
    "import numpy as np \n",
    "import pandas as pd\n",
    "from cluster import BasicClusteringRecommender, KMeansRecommender"
   ]
  },
  {
   "cell_type": "code",
   "execution_count": 26,
   "metadata": {},
   "outputs": [],
   "source": [
    "train_df = pd.read_csv('../preprocessed_dataset/train_dataset.csv')\n",
    "test_df = pd.read_csv('../preprocessed_dataset/test_dataset.csv')"
   ]
  },
  {
   "cell_type": "code",
   "execution_count": 27,
   "metadata": {},
   "outputs": [
    {
     "data": {
      "text/html": [
       "<div>\n",
       "<style scoped>\n",
       "    .dataframe tbody tr th:only-of-type {\n",
       "        vertical-align: middle;\n",
       "    }\n",
       "\n",
       "    .dataframe tbody tr th {\n",
       "        vertical-align: top;\n",
       "    }\n",
       "\n",
       "    .dataframe thead th {\n",
       "        text-align: right;\n",
       "    }\n",
       "</style>\n",
       "<table border=\"1\" class=\"dataframe\">\n",
       "  <thead>\n",
       "    <tr style=\"text-align: right;\">\n",
       "      <th></th>\n",
       "      <th>Unnamed: 0.1</th>\n",
       "      <th>Unnamed: 0</th>\n",
       "      <th>userID</th>\n",
       "      <th>review_count</th>\n",
       "      <th>songID</th>\n",
       "      <th>rating</th>\n",
       "      <th>user_id_idx</th>\n",
       "      <th>item_id_idx</th>\n",
       "    </tr>\n",
       "  </thead>\n",
       "  <tbody>\n",
       "    <tr>\n",
       "      <th>0</th>\n",
       "      <td>0</td>\n",
       "      <td>1179720</td>\n",
       "      <td>815</td>\n",
       "      <td>10</td>\n",
       "      <td>115603</td>\n",
       "      <td>5</td>\n",
       "      <td>186</td>\n",
       "      <td>17212</td>\n",
       "    </tr>\n",
       "    <tr>\n",
       "      <th>1</th>\n",
       "      <td>1</td>\n",
       "      <td>1037453</td>\n",
       "      <td>620</td>\n",
       "      <td>10</td>\n",
       "      <td>65510</td>\n",
       "      <td>5</td>\n",
       "      <td>138</td>\n",
       "      <td>9767</td>\n",
       "    </tr>\n",
       "    <tr>\n",
       "      <th>2</th>\n",
       "      <td>2</td>\n",
       "      <td>103387</td>\n",
       "      <td>11415</td>\n",
       "      <td>10</td>\n",
       "      <td>74460</td>\n",
       "      <td>5</td>\n",
       "      <td>2402</td>\n",
       "      <td>11085</td>\n",
       "    </tr>\n",
       "    <tr>\n",
       "      <th>3</th>\n",
       "      <td>3</td>\n",
       "      <td>895146</td>\n",
       "      <td>4255</td>\n",
       "      <td>10</td>\n",
       "      <td>7294</td>\n",
       "      <td>5</td>\n",
       "      <td>910</td>\n",
       "      <td>1125</td>\n",
       "    </tr>\n",
       "    <tr>\n",
       "      <th>4</th>\n",
       "      <td>4</td>\n",
       "      <td>305030</td>\n",
       "      <td>14171</td>\n",
       "      <td>10</td>\n",
       "      <td>128621</td>\n",
       "      <td>5</td>\n",
       "      <td>2988</td>\n",
       "      <td>19123</td>\n",
       "    </tr>\n",
       "  </tbody>\n",
       "</table>\n",
       "</div>"
      ],
      "text/plain": [
       "   Unnamed: 0.1  Unnamed: 0  userID  review_count  songID  rating  \\\n",
       "0             0     1179720     815            10  115603       5   \n",
       "1             1     1037453     620            10   65510       5   \n",
       "2             2      103387   11415            10   74460       5   \n",
       "3             3      895146    4255            10    7294       5   \n",
       "4             4      305030   14171            10  128621       5   \n",
       "\n",
       "   user_id_idx  item_id_idx  \n",
       "0          186        17212  \n",
       "1          138         9767  \n",
       "2         2402        11085  \n",
       "3          910         1125  \n",
       "4         2988        19123  "
      ]
     },
     "execution_count": 27,
     "metadata": {},
     "output_type": "execute_result"
    }
   ],
   "source": [
    "train_df.head()"
   ]
  },
  {
   "cell_type": "code",
   "execution_count": 28,
   "metadata": {},
   "outputs": [
    {
     "data": {
      "text/html": [
       "<div>\n",
       "<style scoped>\n",
       "    .dataframe tbody tr th:only-of-type {\n",
       "        vertical-align: middle;\n",
       "    }\n",
       "\n",
       "    .dataframe tbody tr th {\n",
       "        vertical-align: top;\n",
       "    }\n",
       "\n",
       "    .dataframe thead th {\n",
       "        text-align: right;\n",
       "    }\n",
       "</style>\n",
       "<table border=\"1\" class=\"dataframe\">\n",
       "  <thead>\n",
       "    <tr style=\"text-align: right;\">\n",
       "      <th></th>\n",
       "      <th>Unnamed: 0.1</th>\n",
       "      <th>Unnamed: 0</th>\n",
       "      <th>userID</th>\n",
       "      <th>review_count</th>\n",
       "      <th>songID</th>\n",
       "      <th>rating</th>\n",
       "      <th>user_id_idx</th>\n",
       "      <th>item_id_idx</th>\n",
       "    </tr>\n",
       "  </thead>\n",
       "  <tbody>\n",
       "    <tr>\n",
       "      <th>count</th>\n",
       "      <td>40000.00000</td>\n",
       "      <td>4.000000e+04</td>\n",
       "      <td>40000.000000</td>\n",
       "      <td>40000.0</td>\n",
       "      <td>40000.000000</td>\n",
       "      <td>40000.000000</td>\n",
       "      <td>40000.000000</td>\n",
       "      <td>40000.000000</td>\n",
       "    </tr>\n",
       "    <tr>\n",
       "      <th>mean</th>\n",
       "      <td>19999.50000</td>\n",
       "      <td>6.629283e+05</td>\n",
       "      <td>11816.062275</td>\n",
       "      <td>10.0</td>\n",
       "      <td>67869.195175</td>\n",
       "      <td>4.548675</td>\n",
       "      <td>2499.701775</td>\n",
       "      <td>10121.717800</td>\n",
       "    </tr>\n",
       "    <tr>\n",
       "      <th>std</th>\n",
       "      <td>11547.14972</td>\n",
       "      <td>3.501890e+05</td>\n",
       "      <td>6833.546813</td>\n",
       "      <td>0.0</td>\n",
       "      <td>39498.025905</td>\n",
       "      <td>0.695265</td>\n",
       "      <td>1442.664511</td>\n",
       "      <td>5859.528774</td>\n",
       "    </tr>\n",
       "    <tr>\n",
       "      <th>min</th>\n",
       "      <td>0.00000</td>\n",
       "      <td>0.000000e+00</td>\n",
       "      <td>0.000000</td>\n",
       "      <td>10.0</td>\n",
       "      <td>2.000000</td>\n",
       "      <td>3.000000</td>\n",
       "      <td>0.000000</td>\n",
       "      <td>0.000000</td>\n",
       "    </tr>\n",
       "    <tr>\n",
       "      <th>25%</th>\n",
       "      <td>9999.75000</td>\n",
       "      <td>3.773340e+05</td>\n",
       "      <td>5806.000000</td>\n",
       "      <td>10.0</td>\n",
       "      <td>33787.250000</td>\n",
       "      <td>4.000000</td>\n",
       "      <td>1247.000000</td>\n",
       "      <td>5084.750000</td>\n",
       "    </tr>\n",
       "    <tr>\n",
       "      <th>50%</th>\n",
       "      <td>19999.50000</td>\n",
       "      <td>7.340415e+05</td>\n",
       "      <td>11853.000000</td>\n",
       "      <td>10.0</td>\n",
       "      <td>67459.500000</td>\n",
       "      <td>5.000000</td>\n",
       "      <td>2501.000000</td>\n",
       "      <td>10064.500000</td>\n",
       "    </tr>\n",
       "    <tr>\n",
       "      <th>75%</th>\n",
       "      <td>29999.25000</td>\n",
       "      <td>9.181072e+05</td>\n",
       "      <td>17743.000000</td>\n",
       "      <td>10.0</td>\n",
       "      <td>101899.000000</td>\n",
       "      <td>5.000000</td>\n",
       "      <td>3748.000000</td>\n",
       "      <td>15193.000000</td>\n",
       "    </tr>\n",
       "    <tr>\n",
       "      <th>max</th>\n",
       "      <td>39999.00000</td>\n",
       "      <td>1.315057e+06</td>\n",
       "      <td>23680.000000</td>\n",
       "      <td>10.0</td>\n",
       "      <td>136729.000000</td>\n",
       "      <td>5.000000</td>\n",
       "      <td>4999.000000</td>\n",
       "      <td>20308.000000</td>\n",
       "    </tr>\n",
       "  </tbody>\n",
       "</table>\n",
       "</div>"
      ],
      "text/plain": [
       "       Unnamed: 0.1    Unnamed: 0        userID  review_count         songID  \\\n",
       "count   40000.00000  4.000000e+04  40000.000000       40000.0   40000.000000   \n",
       "mean    19999.50000  6.629283e+05  11816.062275          10.0   67869.195175   \n",
       "std     11547.14972  3.501890e+05   6833.546813           0.0   39498.025905   \n",
       "min         0.00000  0.000000e+00      0.000000          10.0       2.000000   \n",
       "25%      9999.75000  3.773340e+05   5806.000000          10.0   33787.250000   \n",
       "50%     19999.50000  7.340415e+05  11853.000000          10.0   67459.500000   \n",
       "75%     29999.25000  9.181072e+05  17743.000000          10.0  101899.000000   \n",
       "max     39999.00000  1.315057e+06  23680.000000          10.0  136729.000000   \n",
       "\n",
       "             rating   user_id_idx   item_id_idx  \n",
       "count  40000.000000  40000.000000  40000.000000  \n",
       "mean       4.548675   2499.701775  10121.717800  \n",
       "std        0.695265   1442.664511   5859.528774  \n",
       "min        3.000000      0.000000      0.000000  \n",
       "25%        4.000000   1247.000000   5084.750000  \n",
       "50%        5.000000   2501.000000  10064.500000  \n",
       "75%        5.000000   3748.000000  15193.000000  \n",
       "max        5.000000   4999.000000  20308.000000  "
      ]
     },
     "execution_count": 28,
     "metadata": {},
     "output_type": "execute_result"
    }
   ],
   "source": [
    "train_df.describe()"
   ]
  },
  {
   "cell_type": "code",
   "execution_count": 29,
   "metadata": {},
   "outputs": [
    {
     "data": {
      "text/html": [
       "<div>\n",
       "<style scoped>\n",
       "    .dataframe tbody tr th:only-of-type {\n",
       "        vertical-align: middle;\n",
       "    }\n",
       "\n",
       "    .dataframe tbody tr th {\n",
       "        vertical-align: top;\n",
       "    }\n",
       "\n",
       "    .dataframe thead th {\n",
       "        text-align: right;\n",
       "    }\n",
       "</style>\n",
       "<table border=\"1\" class=\"dataframe\">\n",
       "  <thead>\n",
       "    <tr style=\"text-align: right;\">\n",
       "      <th></th>\n",
       "      <th>Unnamed: 0.1</th>\n",
       "      <th>Unnamed: 0</th>\n",
       "      <th>userID</th>\n",
       "      <th>review_count</th>\n",
       "      <th>songID</th>\n",
       "      <th>rating</th>\n",
       "      <th>user_id_idx</th>\n",
       "      <th>item_id_idx</th>\n",
       "    </tr>\n",
       "  </thead>\n",
       "  <tbody>\n",
       "    <tr>\n",
       "      <th>count</th>\n",
       "      <td>6551.000000</td>\n",
       "      <td>6.551000e+03</td>\n",
       "      <td>6551.000000</td>\n",
       "      <td>6551.0</td>\n",
       "      <td>6551.000000</td>\n",
       "      <td>6551.000000</td>\n",
       "      <td>6551.000000</td>\n",
       "      <td>6551.000000</td>\n",
       "    </tr>\n",
       "    <tr>\n",
       "      <th>mean</th>\n",
       "      <td>5003.284689</td>\n",
       "      <td>6.727516e+05</td>\n",
       "      <td>11839.409098</td>\n",
       "      <td>10.0</td>\n",
       "      <td>68064.745535</td>\n",
       "      <td>4.565715</td>\n",
       "      <td>2504.632117</td>\n",
       "      <td>10150.780034</td>\n",
       "    </tr>\n",
       "    <tr>\n",
       "      <th>std</th>\n",
       "      <td>2887.366461</td>\n",
       "      <td>3.497481e+05</td>\n",
       "      <td>6833.804936</td>\n",
       "      <td>0.0</td>\n",
       "      <td>39461.786362</td>\n",
       "      <td>0.685672</td>\n",
       "      <td>1442.709450</td>\n",
       "      <td>5853.983402</td>\n",
       "    </tr>\n",
       "    <tr>\n",
       "      <th>min</th>\n",
       "      <td>0.000000</td>\n",
       "      <td>3.300000e+01</td>\n",
       "      <td>17.000000</td>\n",
       "      <td>10.0</td>\n",
       "      <td>69.000000</td>\n",
       "      <td>3.000000</td>\n",
       "      <td>1.000000</td>\n",
       "      <td>9.000000</td>\n",
       "    </tr>\n",
       "    <tr>\n",
       "      <th>25%</th>\n",
       "      <td>2498.000000</td>\n",
       "      <td>3.898040e+05</td>\n",
       "      <td>5896.000000</td>\n",
       "      <td>10.0</td>\n",
       "      <td>34241.000000</td>\n",
       "      <td>4.000000</td>\n",
       "      <td>1265.000000</td>\n",
       "      <td>5143.000000</td>\n",
       "    </tr>\n",
       "    <tr>\n",
       "      <th>50%</th>\n",
       "      <td>5012.000000</td>\n",
       "      <td>7.354160e+05</td>\n",
       "      <td>11909.000000</td>\n",
       "      <td>10.0</td>\n",
       "      <td>67818.000000</td>\n",
       "      <td>5.000000</td>\n",
       "      <td>2514.000000</td>\n",
       "      <td>10118.000000</td>\n",
       "    </tr>\n",
       "    <tr>\n",
       "      <th>75%</th>\n",
       "      <td>7490.500000</td>\n",
       "      <td>9.287125e+05</td>\n",
       "      <td>17723.500000</td>\n",
       "      <td>10.0</td>\n",
       "      <td>102331.000000</td>\n",
       "      <td>5.000000</td>\n",
       "      <td>3743.500000</td>\n",
       "      <td>15254.500000</td>\n",
       "    </tr>\n",
       "    <tr>\n",
       "      <th>max</th>\n",
       "      <td>9999.000000</td>\n",
       "      <td>1.315058e+06</td>\n",
       "      <td>23680.000000</td>\n",
       "      <td>10.0</td>\n",
       "      <td>136719.000000</td>\n",
       "      <td>5.000000</td>\n",
       "      <td>4999.000000</td>\n",
       "      <td>20307.000000</td>\n",
       "    </tr>\n",
       "  </tbody>\n",
       "</table>\n",
       "</div>"
      ],
      "text/plain": [
       "       Unnamed: 0.1    Unnamed: 0        userID  review_count         songID  \\\n",
       "count   6551.000000  6.551000e+03   6551.000000        6551.0    6551.000000   \n",
       "mean    5003.284689  6.727516e+05  11839.409098          10.0   68064.745535   \n",
       "std     2887.366461  3.497481e+05   6833.804936           0.0   39461.786362   \n",
       "min        0.000000  3.300000e+01     17.000000          10.0      69.000000   \n",
       "25%     2498.000000  3.898040e+05   5896.000000          10.0   34241.000000   \n",
       "50%     5012.000000  7.354160e+05  11909.000000          10.0   67818.000000   \n",
       "75%     7490.500000  9.287125e+05  17723.500000          10.0  102331.000000   \n",
       "max     9999.000000  1.315058e+06  23680.000000          10.0  136719.000000   \n",
       "\n",
       "            rating  user_id_idx   item_id_idx  \n",
       "count  6551.000000  6551.000000   6551.000000  \n",
       "mean      4.565715  2504.632117  10150.780034  \n",
       "std       0.685672  1442.709450   5853.983402  \n",
       "min       3.000000     1.000000      9.000000  \n",
       "25%       4.000000  1265.000000   5143.000000  \n",
       "50%       5.000000  2514.000000  10118.000000  \n",
       "75%       5.000000  3743.500000  15254.500000  \n",
       "max       5.000000  4999.000000  20307.000000  "
      ]
     },
     "execution_count": 29,
     "metadata": {},
     "output_type": "execute_result"
    }
   ],
   "source": [
    "test_df.describe()"
   ]
  },
  {
   "cell_type": "code",
   "execution_count": 30,
   "metadata": {},
   "outputs": [],
   "source": [
    "train_df = train_df[['rating', 'user_id_idx', 'item_id_idx']]\n",
    "test_df = test_df[['rating', 'user_id_idx', 'item_id_idx']]"
   ]
  },
  {
   "cell_type": "code",
   "execution_count": 31,
   "metadata": {},
   "outputs": [],
   "source": [
    "train_df.rename(columns={'user_id_idx': 'userID', 'item_id_idx': 'songID'}, inplace=True)\n",
    "test_df.rename(columns={'user_id_idx': 'userID', 'item_id_idx': 'songID'}, inplace=True)"
   ]
  },
  {
   "cell_type": "code",
   "execution_count": 32,
   "metadata": {},
   "outputs": [],
   "source": [
    "from sklearn.metrics import precision_score, recall_score, f1_score\n",
    "\n",
    "def eval_model(model, test_df):\n",
    "    predicted_rating = test_df.apply(lambda row: model.predict_score(row.userID, row.songID), axis=1)\n",
    "    precision = precision_score(test_df.rating, predicted_rating, average='macro')\n",
    "    recall = recall_score(test_df.rating, predicted_rating, average='macro')\n",
    "    f1 = f1_score(test_df.rating, predicted_rating, average='macro')\n",
    "\n",
    "    # print(predicted_rating.describe())\n",
    "\n",
    "    return precision, recall, f1"
   ]
  },
  {
   "cell_type": "markdown",
   "metadata": {},
   "source": [
    "**Evaluate Basic Clustering Recommender**"
   ]
  },
  {
   "cell_type": "code",
   "execution_count": 33,
   "metadata": {},
   "outputs": [],
   "source": [
    "recommender = BasicClusteringRecommender(n_neighbor=200)"
   ]
  },
  {
   "cell_type": "code",
   "execution_count": 34,
   "metadata": {},
   "outputs": [],
   "source": [
    "recommender.fit(train_df)"
   ]
  },
  {
   "cell_type": "code",
   "execution_count": 35,
   "metadata": {},
   "outputs": [
    {
     "data": {
      "text/plain": [
       "(0.3511011011011011, 0.34150326797385616, 0.19122234826999432)"
      ]
     },
     "execution_count": 35,
     "metadata": {},
     "output_type": "execute_result"
    }
   ],
   "source": [
    "eval_model(recommender, test_df.iloc[:100])\n",
    "# May take ~2 hours to evaluate all the test cases"
   ]
  },
  {
   "cell_type": "markdown",
   "metadata": {},
   "source": [
    "**Evaluate K-Means Recommdender with Minibatch**"
   ]
  },
  {
   "cell_type": "code",
   "execution_count": 36,
   "metadata": {},
   "outputs": [],
   "source": [
    "recommender = KMeansRecommender(n_neighbor=200, use_minibatch=True)"
   ]
  },
  {
   "cell_type": "code",
   "execution_count": 37,
   "metadata": {},
   "outputs": [],
   "source": [
    "recommender.fit(train_df)"
   ]
  },
  {
   "cell_type": "code",
   "execution_count": 38,
   "metadata": {},
   "outputs": [
    {
     "data": {
      "text/plain": [
       "(0.35964912280701755, 0.33660130718954245, 0.18452380952380953)"
      ]
     },
     "execution_count": 38,
     "metadata": {},
     "output_type": "execute_result"
    }
   ],
   "source": [
    "eval_model(recommender, test_df.iloc[:100])"
   ]
  },
  {
   "cell_type": "markdown",
   "metadata": {},
   "source": [
    "**Evaluate K-Means Recommender without Minibatch**"
   ]
  },
  {
   "cell_type": "code",
   "execution_count": 39,
   "metadata": {},
   "outputs": [],
   "source": [
    "recommender = KMeansRecommender(n_neighbor=200, use_minibatch=False)"
   ]
  },
  {
   "cell_type": "code",
   "execution_count": 40,
   "metadata": {},
   "outputs": [],
   "source": [
    "recommender.fit(train_df)"
   ]
  },
  {
   "cell_type": "code",
   "execution_count": 41,
   "metadata": {},
   "outputs": [
    {
     "data": {
      "text/plain": [
       "(0.3189102564102564, 0.4011437908496733, 0.17153931339977854)"
      ]
     },
     "execution_count": 41,
     "metadata": {},
     "output_type": "execute_result"
    }
   ],
   "source": [
    "eval_model(recommender, test_df.iloc[:100])"
   ]
  }
 ],
 "metadata": {
  "kernelspec": {
   "display_name": "Python 3",
   "language": "python",
   "name": "python3"
  },
  "language_info": {
   "codemirror_mode": {
    "name": "ipython",
    "version": 3
   },
   "file_extension": ".py",
   "mimetype": "text/x-python",
   "name": "python",
   "nbconvert_exporter": "python",
   "pygments_lexer": "ipython3",
   "version": "3.9.6"
  }
 },
 "nbformat": 4,
 "nbformat_minor": 2
}
