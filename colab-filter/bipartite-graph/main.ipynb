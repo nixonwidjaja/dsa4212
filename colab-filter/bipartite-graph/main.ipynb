{
  "cells": [
    {
      "cell_type": "markdown",
      "metadata": {
        "id": "dr2e1BWqbAcJ"
      },
      "source": [
        "# Import libraries"
      ]
    },
    {
      "cell_type": "code",
      "execution_count": 1,
      "metadata": {
        "id": "gPlSM48iHcbn"
      },
      "outputs": [],
      "source": [
        "from pyspark.sql import SparkSession\n",
        "from pyspark.sql.functions import col\n",
        "\n",
        "\n",
        "# Create SparkSession\n",
        "spark = SparkSession.builder.appName('Song_Review_Analysis') \\\n",
        "        .master(\"local[1]\").getOrCreate()"
      ]
    },
    {
      "cell_type": "markdown",
      "metadata": {
        "id": "V8ROMJfJbEA5"
      },
      "source": [
        "# Import Dataset"
      ]
    },
    {
      "cell_type": "code",
      "execution_count": 2,
      "metadata": {
        "colab": {
          "base_uri": "https://localhost:8080/"
        },
        "id": "qamsO_64HdZp",
        "outputId": "50851041-a481-4902-f953-e8c69cbbdac3"
      },
      "outputs": [
        {
          "data": {
            "text/plain": [
              "DataFrame['userID': string, 'songID': string, 'rating': string]"
            ]
          },
          "execution_count": 2,
          "metadata": {},
          "output_type": "execute_result"
        }
      ],
      "source": [
        "data = spark.read.csv(\"songsDataset.csv\",header=True)\n",
        "data"
      ]
    },
    {
      "cell_type": "code",
      "execution_count": 3,
      "metadata": {
        "id": "4vHzAVJ8LWhd"
      },
      "outputs": [],
      "source": [
        "data = data.select(col(\"'userID'\").alias(\"userID\"), col(\"'songID'\").alias(\"songID\"), col(\"'rating'\").alias(\"rating\"))"
      ]
    },
    {
      "cell_type": "markdown",
      "metadata": {
        "id": "IjG3ot9NbGhe"
      },
      "source": [
        "# High Level Overview of Dataset"
      ]
    },
    {
      "cell_type": "code",
      "execution_count": 4,
      "metadata": {
        "id": "1ycu8OcSHiCi"
      },
      "outputs": [],
      "source": [
        "review_count_df = data.groupBy(\"userID\").count()"
      ]
    },
    {
      "cell_type": "code",
      "execution_count": 5,
      "metadata": {
        "colab": {
          "base_uri": "https://localhost:8080/"
        },
        "id": "l_HtpRTnIz2c",
        "outputId": "1d072e98-6848-402c-a398-61341460b0b9"
      },
      "outputs": [
        {
          "name": "stdout",
          "output_type": "stream",
          "text": [
            "+------+-----+\n",
            "|userID|count|\n",
            "+------+-----+\n",
            "|   296|   10|\n",
            "|   467|   10|\n",
            "|   675|   10|\n",
            "|   691|   10|\n",
            "|   829|   10|\n",
            "|  1090|   10|\n",
            "|  1159|   10|\n",
            "|  1436|   10|\n",
            "|  1512|   10|\n",
            "|  1572|   10|\n",
            "|  2069|   10|\n",
            "|  2088|   10|\n",
            "|  2136|   10|\n",
            "|  2162|   10|\n",
            "|  2294|   10|\n",
            "|  2904|   10|\n",
            "|  3210|   10|\n",
            "|  3414|   10|\n",
            "|  3606|   10|\n",
            "|  3959|   10|\n",
            "+------+-----+\n",
            "only showing top 20 rows\n",
            "\n"
          ]
        }
      ],
      "source": [
        "review_count_df.show()"
      ]
    },
    {
      "cell_type": "code",
      "execution_count": 6,
      "metadata": {
        "colab": {
          "base_uri": "https://localhost:8080/"
        },
        "id": "ica409jKIyjz",
        "outputId": "1ff04d70-bbd0-48fc-c584-858b3bce4de1"
      },
      "outputs": [
        {
          "name": "stdout",
          "output_type": "stream",
          "text": [
            "+------+-----+\n",
            "|userID|count|\n",
            "+------+-----+\n",
            "|199999|   10|\n",
            "+------+-----+\n",
            "\n"
          ]
        }
      ],
      "source": [
        "review_count_df.filter(review_count_df.userID == 199999).show()"
      ]
    },
    {
      "cell_type": "markdown",
      "metadata": {
        "id": "VXWqMIzKbLIK"
      },
      "source": [
        "# Positive Interaction Filtering"
      ]
    },
    {
      "cell_type": "code",
      "execution_count": 7,
      "metadata": {
        "colab": {
          "base_uri": "https://localhost:8080/"
        },
        "id": "kWBVsKKYXl3w",
        "outputId": "2cdccac7-4629-44f5-a1e0-77560a33b09c"
      },
      "outputs": [
        {
          "data": {
            "text/plain": [
              "1412937"
            ]
          },
          "execution_count": 7,
          "metadata": {},
          "output_type": "execute_result"
        }
      ],
      "source": [
        "positive_rating_data = data.filter(data.rating >= 3)\n",
        "\n",
        "positive_rating_data.count()"
      ]
    },
    {
      "cell_type": "code",
      "execution_count": 8,
      "metadata": {
        "colab": {
          "base_uri": "https://localhost:8080/"
        },
        "id": "gC_VviBjYJhH",
        "outputId": "64983a16-aae9-4d3e-8ba1-fc0870944553"
      },
      "outputs": [
        {
          "name": "stdout",
          "output_type": "stream",
          "text": [
            "+------+------------+\n",
            "|userID|review_count|\n",
            "+------+------------+\n",
            "|   296|           6|\n",
            "|   467|           5|\n",
            "|   675|           6|\n",
            "|   691|          10|\n",
            "|   829|           9|\n",
            "|  1159|           3|\n",
            "|  1436|           7|\n",
            "|  1512|           5|\n",
            "|  1572|           4|\n",
            "|  2069|           7|\n",
            "|  2088|           7|\n",
            "|  2136|           5|\n",
            "|  2162|           9|\n",
            "|  2294|           9|\n",
            "|  2904|           7|\n",
            "|  3210|           7|\n",
            "|  3414|          10|\n",
            "|  3606|          10|\n",
            "|  3959|           8|\n",
            "|  4032|           9|\n",
            "+------+------------+\n",
            "only showing top 20 rows\n",
            "\n"
          ]
        }
      ],
      "source": [
        "positive_review_count_df = positive_rating_data.groupBy(\"userID\").count()\n",
        "\n",
        "positive_review_count_df = positive_review_count_df.select(col(\"userID\"), col(\"count\").alias(\"review_count\"))\n",
        "\n",
        "positive_review_count_df.show()"
      ]
    },
    {
      "cell_type": "code",
      "execution_count": 9,
      "metadata": {
        "colab": {
          "base_uri": "https://localhost:8080/"
        },
        "id": "W52k62qiY3oK",
        "outputId": "f6248b67-e598-445a-ecf5-ecbcf7ae98e2"
      },
      "outputs": [
        {
          "name": "stdout",
          "output_type": "stream",
          "text": [
            "+------+------------+\n",
            "|userID|review_count|\n",
            "+------+------------+\n",
            "|140876|           1|\n",
            "| 59680|           1|\n",
            "|141168|           1|\n",
            "| 42370|           1|\n",
            "|144656|           1|\n",
            "|121867|           1|\n",
            "|148664|           1|\n",
            "| 67196|           1|\n",
            "|151772|           1|\n",
            "| 23318|           1|\n",
            "|163886|           1|\n",
            "| 66584|           1|\n",
            "|167438|           1|\n",
            "|109514|           1|\n",
            "|173637|           1|\n",
            "|  1394|           1|\n",
            "| 68471|           1|\n",
            "|  3368|           1|\n",
            "| 43462|           1|\n",
            "| 15052|           1|\n",
            "+------+------------+\n",
            "only showing top 20 rows\n",
            "\n"
          ]
        }
      ],
      "source": [
        "positive_review_count_df.sort(\"review_count\").show()"
      ]
    },
    {
      "cell_type": "markdown",
      "metadata": {
        "id": "ytLR_x-jbOq_"
      },
      "source": [
        "# Filter only those users who rated positively at least 5 songs"
      ]
    },
    {
      "cell_type": "code",
      "execution_count": 12,
      "metadata": {
        "id": "WpaF4u_abn-F"
      },
      "outputs": [],
      "source": [
        "active_positive_review_count_df = positive_review_count_df.filter(positive_review_count_df.review_count >= 5)"
      ]
    },
    {
      "cell_type": "code",
      "execution_count": 15,
      "metadata": {
        "id": "gbTNAC4QXuJe"
      },
      "outputs": [],
      "source": [
        "final_data = active_positive_review_count_df.join(positive_rating_data, how=\"left\", on=\"userID\")"
      ]
    },
    {
      "cell_type": "code",
      "execution_count": 16,
      "metadata": {
        "colab": {
          "base_uri": "https://localhost:8080/"
        },
        "id": "Lf-7qqGPQica",
        "outputId": "fa11b08d-3f4a-41d6-fd4c-bde56c836efc"
      },
      "outputs": [
        {
          "data": {
            "text/plain": [
              "1315321"
            ]
          },
          "execution_count": 16,
          "metadata": {},
          "output_type": "execute_result"
        }
      ],
      "source": [
        "final_data.count()"
      ]
    },
    {
      "cell_type": "code",
      "execution_count": 17,
      "metadata": {
        "colab": {
          "base_uri": "https://localhost:8080/"
        },
        "id": "0z720XBRZfsu",
        "outputId": "58ac9483-fa07-4249-a724-76e8f2fa9e38"
      },
      "outputs": [
        {
          "name": "stdout",
          "output_type": "stream",
          "text": [
            "+------+------------+------+------+\n",
            "|userID|review_count|songID|rating|\n",
            "+------+------------+------+------+\n",
            "|  1436|           7| 21703|     5|\n",
            "|  1436|           7| 73763|     5|\n",
            "|  1436|           7| 87408|     4|\n",
            "|  1436|           7|102517|     5|\n",
            "|  1436|           7|110084|     5|\n",
            "|  1436|           7|135772|     5|\n",
            "|  1436|           7|136449|     5|\n",
            "|  1512|           5| 20711|     5|\n",
            "|  1512|           5| 33496|     5|\n",
            "|  1512|           5| 53149|     3|\n",
            "|  1512|           5|107034|     3|\n",
            "|  1512|           5|112977|     4|\n",
            "|  2069|           7| 44119|     5|\n",
            "|  2069|           7| 59067|     5|\n",
            "|  2069|           7| 86486|     5|\n",
            "|  2069|           7| 87658|     5|\n",
            "|  2069|           7| 92043|     5|\n",
            "|  2069|           7|104751|     5|\n",
            "|  2069|           7|120983|     5|\n",
            "|  2088|           7|  6853|     3|\n",
            "+------+------------+------+------+\n",
            "only showing top 20 rows\n",
            "\n"
          ]
        }
      ],
      "source": [
        "final_data.show()"
      ]
    },
    {
      "cell_type": "code",
      "execution_count": 18,
      "metadata": {
        "colab": {
          "base_uri": "https://localhost:8080/"
        },
        "id": "nZ2eDeFDbTqB",
        "outputId": "01349027-bc5c-4ba2-f7a6-53ba145b040f"
      },
      "outputs": [
        {
          "data": {
            "text/plain": [
              "5"
            ]
          },
          "execution_count": 18,
          "metadata": {},
          "output_type": "execute_result"
        }
      ],
      "source": [
        "final_data.agg({\"review_count\": \"min\"}).collect()[0][0]"
      ]
    },
    {
      "cell_type": "code",
      "execution_count": 19,
      "metadata": {
        "colab": {
          "base_uri": "https://localhost:8080/",
          "height": 35
        },
        "id": "TEgcxsE5bw8r",
        "outputId": "4f0a6f06-90f2-4cef-e2c7-3c699bd61bf4"
      },
      "outputs": [
        {
          "data": {
            "application/vnd.google.colaboratory.intrinsic+json": {
              "type": "string"
            },
            "text/plain": [
              "'3'"
            ]
          },
          "execution_count": 19,
          "metadata": {},
          "output_type": "execute_result"
        }
      ],
      "source": [
        "final_data.agg({\"rating\": \"min\"}).collect()[0][0]"
      ]
    },
    {
      "cell_type": "code",
      "execution_count": 20,
      "metadata": {
        "id": "dPG1eeo7b3nm"
      },
      "outputs": [],
      "source": [
        "final_data.write.csv(\"preprocessed_songsDataset.csv\")"
      ]
    }
  ],
  "metadata": {
    "colab": {
      "provenance": []
    },
    "kernelspec": {
      "display_name": "Python 3",
      "name": "python3"
    },
    "language_info": {
      "name": "python",
      "version": "3.9.6"
    }
  },
  "nbformat": 4,
  "nbformat_minor": 0
}
