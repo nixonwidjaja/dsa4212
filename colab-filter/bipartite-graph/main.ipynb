{
  "cells": [
    {
      "cell_type": "code",
      "execution_count": 1,
      "metadata": {
        "id": "gPlSM48iHcbn"
      },
      "outputs": [],
      "source": [
        "from pyspark.sql import SparkSession\n",
        "from pyspark.sql.functions import col\n",
        "\n",
        "\n",
        "# Create SparkSession\n",
        "spark = SparkSession.builder.appName('Song_Review_Analysis') \\\n",
        "        .master(\"local[5]\").getOrCreate()"
      ]
    },
    {
      "cell_type": "code",
      "execution_count": 2,
      "metadata": {
        "colab": {
          "base_uri": "https://localhost:8080/"
        },
        "id": "qamsO_64HdZp",
        "outputId": "785f8fe0-ef3e-4061-e0ab-ab4adca767ef"
      },
      "outputs": [
        {
          "data": {
            "text/plain": [
              "DataFrame['userID': string, 'songID': string, 'rating': string]"
            ]
          },
          "execution_count": 2,
          "metadata": {},
          "output_type": "execute_result"
        }
      ],
      "source": [
        "data = spark.read.csv(\"dataset/songsDataset.csv\",header=True)\n",
        "data"
      ]
    },
    {
      "cell_type": "code",
      "execution_count": 3,
      "metadata": {
        "id": "4vHzAVJ8LWhd"
      },
      "outputs": [],
      "source": [
        "data = data.select(col(\"'userID'\").alias(\"userID\"), col(\"'songID'\").alias(\"songID\"), col(\"'rating'\").alias(\"rating\"))"
      ]
    },
    {
      "cell_type": "code",
      "execution_count": 4,
      "metadata": {
        "id": "1ycu8OcSHiCi"
      },
      "outputs": [],
      "source": [
        "review_count_df = data.groupBy(\"userID\").count()"
      ]
    },
    {
      "cell_type": "code",
      "execution_count": 5,
      "metadata": {
        "colab": {
          "base_uri": "https://localhost:8080/"
        },
        "id": "l_HtpRTnIz2c",
        "outputId": "7af73cfc-6238-4105-ef92-e75cb8190997"
      },
      "outputs": [
        {
          "name": "stdout",
          "output_type": "stream",
          "text": [
            "+------+-----+\n",
            "|userID|count|\n",
            "+------+-----+\n",
            "|   296|   10|\n",
            "|   467|   10|\n",
            "|   675|   10|\n",
            "|   691|   10|\n",
            "|   829|   10|\n",
            "|  1090|   10|\n",
            "|  1159|   10|\n",
            "|  1436|   10|\n",
            "|  1512|   10|\n",
            "|  1572|   10|\n",
            "|  2069|   10|\n",
            "|  2088|   10|\n",
            "|  2136|   10|\n",
            "|  2162|   10|\n",
            "|  2294|   10|\n",
            "|  2904|   10|\n",
            "|  3210|   10|\n",
            "|  3414|   10|\n",
            "|  3606|   10|\n",
            "|  3959|   10|\n",
            "+------+-----+\n",
            "only showing top 20 rows\n",
            "\n"
          ]
        }
      ],
      "source": [
        "review_count_df.show()"
      ]
    },
    {
      "cell_type": "code",
      "execution_count": 6,
      "metadata": {
        "colab": {
          "base_uri": "https://localhost:8080/"
        },
        "id": "ica409jKIyjz",
        "outputId": "da8e670a-0fed-456d-d632-bf2b3b8cdbf0"
      },
      "outputs": [
        {
          "name": "stdout",
          "output_type": "stream",
          "text": [
            "+------+-----+\n",
            "|userID|count|\n",
            "+------+-----+\n",
            "|199999|   10|\n",
            "+------+-----+\n",
            "\n"
          ]
        }
      ],
      "source": [
        "review_count_df.filter(review_count_df.userID == 199999).show()"
      ]
    }
  ],
  "metadata": {
    "colab": {
      "provenance": []
    },
    "kernelspec": {
      "display_name": "Python 3",
      "name": "python3"
    },
    "language_info": {
      "name": "python"
    }
  },
  "nbformat": 4,
  "nbformat_minor": 0
}
